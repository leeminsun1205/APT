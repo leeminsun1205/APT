{
 "cells": [
  {
   "cell_type": "markdown",
   "metadata": {},
   "source": [
    "* File này được thiết kế để load 1 loại dataset 1 lần nhằm tiết kiệm tài nguyên.\n",
    "* Tải dataset tại đây [DATASETS.md](https://github.com/TreeLLi/APT/blob/main/DATASETS.md), làm theo hướng dẫn sau đó nén thành file zip và bỏ vào gg drive, hiện tại cần sự hỗ trợ của mọi người để load thêm các dataset còn thiếu vào mail nghiên cứu mới tạo.\n",
    " * TK: uitresearchteam2@gmail.com\n",
    " * MK: team@123456\n",
    "* Những chỗ có #EDIT HERE là những chỗ cần phải sửa tùy theo bảng/dataset thực nghiệm.\n",
    "* Hiện tại file này chưa hỗ trợ thử các phương pháp khác ngoài APT!\n",
    "* Hiện tại vẫn chưa mở rộng những yêu cầu của thầy, file này chỉ hỗ trợ thực nghiệm có sẵn của tác giả!\n",
    "* Ngoài ra cần đọc kĩ paper và hướng dẫn trong github của tác giả để hiểu rõ: [Tại đây](https://github.com/TreeLLi/APT)"
   ]
  },
  {
   "cell_type": "code",
   "execution_count": null,
   "metadata": {
    "execution": {
     "iopub.execute_input": "2024-11-07T01:01:47.389609Z",
     "iopub.status.busy": "2024-11-07T01:01:47.388813Z",
     "iopub.status.idle": "2024-11-07T01:01:47.399089Z",
     "shell.execute_reply": "2024-11-07T01:01:47.398135Z",
     "shell.execute_reply.started": "2024-11-07T01:01:47.389570Z"
    },
    "trusted": true
   },
   "outputs": [],
   "source": [
    "import warnings\n",
    "# Bỏ qua tất cả các cảnh báo\n",
    "warnings.filterwarnings(\"ignore\")"
   ]
  },
  {
   "cell_type": "code",
   "execution_count": null,
   "metadata": {
    "_cell_guid": "b1076dfc-b9ad-4769-8c92-a6c4dae69d19",
    "_uuid": "8f2839f25d086af736a60e9eeb907d3b93b6e0e5",
    "execution": {
     "iopub.execute_input": "2024-11-07T01:01:47.401158Z",
     "iopub.status.busy": "2024-11-07T01:01:47.400832Z",
     "iopub.status.idle": "2024-11-07T01:05:01.715944Z",
     "shell.execute_reply": "2024-11-07T01:05:01.714856Z",
     "shell.execute_reply.started": "2024-11-07T01:01:47.401123Z"
    },
    "trusted": true
   },
   "outputs": [],
   "source": [
    "# clone môi trường Dassl\n",
    "!git clone https://github.com/KaiyangZhou/Dassl.pytorch.git > /dev/null 2>&1 \n",
    "%cd Dassl.pytorch/\n",
    "\n",
    "!pip install --upgrade torch torchvision > /dev/null 2>&1 \n",
    "\n",
    "!pip install -r requirements.txt > /dev/null 2>&1\n",
    "\n",
    "!python setup.py develop > /dev/null 2>&1 \n",
    "print('Done!')"
   ]
  },
  {
   "cell_type": "code",
   "execution_count": null,
   "metadata": {
    "execution": {
     "iopub.execute_input": "2024-11-07T01:05:01.717838Z",
     "iopub.status.busy": "2024-11-07T01:05:01.717501Z",
     "iopub.status.idle": "2024-11-07T01:05:03.530217Z",
     "shell.execute_reply": "2024-11-07T01:05:03.529103Z",
     "shell.execute_reply.started": "2024-11-07T01:05:01.717803Z"
    },
    "trusted": true
   },
   "outputs": [],
   "source": [
    "#clone APT\n",
    "!git clone https://github.com/leeminsun1205/APT.git > /dev/null 2>&1 #bỏ qua thông báo\n",
    "%cd /kaggle/working/Dassl.pytorch/APT\n",
    "print('Done!')"
   ]
  },
  {
   "cell_type": "code",
   "execution_count": null,
   "metadata": {
    "execution": {
     "iopub.execute_input": "2024-11-07T01:05:03.532375Z",
     "iopub.status.busy": "2024-11-07T01:05:03.531934Z",
     "iopub.status.idle": "2024-11-07T01:05:22.726312Z",
     "shell.execute_reply": "2024-11-07T01:05:22.725110Z",
     "shell.execute_reply.started": "2024-11-07T01:05:03.532328Z"
    },
    "trusted": true
   },
   "outputs": [],
   "source": [
    "!pip install -r requirements.txt > /dev/null 2>&1 #bỏ qua thông báo\n",
    "print('Done!')"
   ]
  },
  {
   "cell_type": "code",
   "execution_count": null,
   "metadata": {
    "execution": {
     "iopub.execute_input": "2024-11-07T01:05:22.729132Z",
     "iopub.status.busy": "2024-11-07T01:05:22.728787Z",
     "iopub.status.idle": "2024-11-07T01:05:39.428299Z",
     "shell.execute_reply": "2024-11-07T01:05:39.427195Z",
     "shell.execute_reply.started": "2024-11-07T01:05:22.729074Z"
    },
    "trusted": true
   },
   "outputs": [],
   "source": [
    "!pip install addict git+https://github.com/fra31/auto-attack torchattacks > /dev/null 2>&1 #bỏ qua thông báo\n",
    "print('Done!')"
   ]
  },
  {
   "cell_type": "code",
   "execution_count": null,
   "metadata": {
    "execution": {
     "iopub.execute_input": "2024-11-07T01:05:39.430329Z",
     "iopub.status.busy": "2024-11-07T01:05:39.429890Z",
     "iopub.status.idle": "2024-11-07T01:07:27.937176Z",
     "shell.execute_reply": "2024-11-07T01:07:27.935726Z",
     "shell.execute_reply.started": "2024-11-07T01:05:39.430282Z"
    },
    "trusted": true
   },
   "outputs": [],
   "source": [
    "!pip install torch==2.0.1+cu118 torchvision==0.15.2+cu118 torchaudio==2.0.2+cu118 -f https://download.pytorch.org/whl/torch_stable.html > /dev/null 2>&1\n",
    "print('Done!')"
   ]
  },
  {
   "cell_type": "code",
   "execution_count": null,
   "metadata": {
    "execution": {
     "iopub.execute_input": "2024-11-07T01:37:53.921586Z",
     "iopub.status.busy": "2024-11-07T01:37:53.920863Z",
     "iopub.status.idle": "2024-11-07T01:37:54.908467Z",
     "shell.execute_reply": "2024-11-07T01:37:54.907202Z",
     "shell.execute_reply.started": "2024-11-07T01:37:53.921544Z"
    },
    "trusted": true
   },
   "outputs": [],
   "source": [
    "# !rm -rf /kaggle/working/Dassl.pytorch/APT/apt/output"
   ]
  },
  {
   "cell_type": "code",
   "execution_count": null,
   "metadata": {
    "execution": {
     "iopub.execute_input": "2024-11-07T01:37:57.947705Z",
     "iopub.status.busy": "2024-11-07T01:37:57.947290Z",
     "iopub.status.idle": "2024-11-07T01:38:10.622887Z",
     "shell.execute_reply": "2024-11-07T01:38:10.621633Z",
     "shell.execute_reply.started": "2024-11-07T01:37:57.947666Z"
    },
    "trusted": true
   },
   "outputs": [],
   "source": [
    "import gdown\n",
    "import os\n",
    "#EDIT HERE\n",
    "zip_model_id = '1f0yFiAHxLpiLHIk7zMi0cX6ZhDbxmLoX' \n",
    "zip_dataset_id = '1Hq44aUGK6TCG1j4OGbYXOeE2yuvEKCzN'\n",
    "%cd /kaggle/working/\n",
    "\n",
    "# Tải file zip với tên mặc định\n",
    "zip_dataset_file = gdown.download(f\"https://drive.google.com/uc?id={zip_dataset_id}\", quiet=False)\n",
    "zip_model_file = gdown.download(f\"https://drive.google.com/uc?id={zip_model_id}\", quiet=False)\n",
    "# Lấy tên file mà không có phần mở rộng\n",
    "dataset_name = os.path.splitext(os.path.basename(zip_dataset_file))[0]\n",
    "# # Tạo thư mục DATA/dataset_name\n",
    "os.makedirs(f\"/Dassl.pytorch/APT/apt/output/\", exist_ok=True)\n",
    "os.makedirs(f\"/kaggle/working/DATA/{dataset_name}/\", exist_ok=True)\n",
    "# Giải nén file zip vào thư mục đã tạo\n",
    "!unzip -q /kaggle/working/{zip_dataset_file} -d /kaggle/working/DATA/{dataset_name}/\n",
    "!unzip -q /kaggle/working/{zip_model_file} -d /kaggle/working/Dassl.pytorch/APT/apt/output/\n",
    "print(\"Done!\")\n"
   ]
  },
  {
   "cell_type": "code",
   "execution_count": null,
   "metadata": {
    "execution": {
     "iopub.execute_input": "2024-11-07T01:39:42.367774Z",
     "iopub.status.busy": "2024-11-07T01:39:42.366885Z",
     "iopub.status.idle": "2024-11-07T01:39:55.942964Z",
     "shell.execute_reply": "2024-11-07T01:39:55.941869Z",
     "shell.execute_reply.started": "2024-11-07T01:39:42.367729Z"
    },
    "trusted": true
   },
   "outputs": [],
   "source": [
    "#Chọn backbone với epsilon phù hợp\n",
    "vit_b32_eps1 = '1COEDmzEpkFijU7HOlQdzZfNhcEamz9Fu'\n",
    "vit_b32_eps4 = '1c2bMEadiCp8gIXuoUdGPH9zyW_6cMIDQ'\n",
    "rn50_eps1 = '11Yg8eEDoNMNHyBdsn01Z75ll-M33vHtH'\n",
    "\n",
    "%cd /kaggle/working/Dassl.pytorch/APT/apt/backbone\n",
    "!gdown {vit_b32_eps4} #EDIT HERE\n",
    "%cd /kaggle/working/Dassl.pytorch/APT/apt "
   ]
  },
  {
   "cell_type": "markdown",
   "metadata": {},
   "source": [
    "**Evaluate In-Distribution**"
   ]
  },
  {
   "cell_type": "code",
   "execution_count": null,
   "metadata": {
    "execution": {
     "iopub.execute_input": "2024-11-07T01:40:03.994534Z",
     "iopub.status.busy": "2024-11-07T01:40:03.994121Z",
     "iopub.status.idle": "2024-11-07T01:56:29.283406Z",
     "shell.execute_reply": "2024-11-07T01:56:29.282372Z",
     "shell.execute_reply.started": "2024-11-07T01:40:03.994497Z"
    },
    "trusted": true
   },
   "outputs": [],
   "source": [
    "#EDIT HERE\n",
    "output = '/kaggle/working/Dassl.pytorch/APT/apt/output/caltech101/APT/vit_b32_ep50_1shots/nctx16_cscFalse_ctpend/eps4_alpha2.67_step3/seed1' \n",
    "attack = 'pgd'\n",
    "\n",
    "!python evaluate.py {output} --cls-prompt prompter --attack {attack}"
   ]
  },
  {
   "cell_type": "markdown",
   "metadata": {},
   "source": [
    "**Evaluate Zero-shot / Out-Of-Distribution**"
   ]
  },
  {
   "cell_type": "code",
   "execution_count": null,
   "metadata": {
    "execution": {
     "iopub.execute_input": "2024-11-06T03:44:46.315587Z",
     "iopub.status.busy": "2024-11-06T03:44:46.315267Z",
     "iopub.status.idle": "2024-11-06T03:44:46.326737Z",
     "shell.execute_reply": "2024-11-06T03:44:46.325842Z",
     "shell.execute_reply.started": "2024-11-06T03:44:46.315556Z"
    },
    "trusted": true
   },
   "outputs": [],
   "source": [
    "#EDIT HERE\n",
    "# output = '/kaggle/working/Dassl.pytorch/APT/apt/output/caltech101/APT/vit_b32_-1shots/nctx1_cscFalse_ctpend/eps4_alpha2.67_step3/seed1' \n",
    "# attack = 'pgd'\n",
    "# python evaluate.py {output} --dataset --cls-prompt prompter --attack {attack}"
   ]
  }
 ],
 "metadata": {
  "kaggle": {
   "accelerator": "gpu",
   "dataSources": [],
   "dockerImageVersionId": 30787,
   "isGpuEnabled": true,
   "isInternetEnabled": true,
   "language": "python",
   "sourceType": "notebook"
  },
  "kernelspec": {
   "display_name": "Python 3",
   "language": "python",
   "name": "python3"
  },
  "language_info": {
   "codemirror_mode": {
    "name": "ipython",
    "version": 3
   },
   "file_extension": ".py",
   "mimetype": "text/x-python",
   "name": "python",
   "nbconvert_exporter": "python",
   "pygments_lexer": "ipython3",
   "version": "3.10.14"
  }
 },
 "nbformat": 4,
 "nbformat_minor": 4
}
