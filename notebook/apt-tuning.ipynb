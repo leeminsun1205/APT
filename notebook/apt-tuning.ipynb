{
 "cells": [
  {
   "cell_type": "code",
   "execution_count": null,
   "metadata": {
    "execution": {
     "iopub.execute_input": "2024-11-03T11:56:36.056051Z",
     "iopub.status.busy": "2024-11-03T11:56:36.055718Z",
     "iopub.status.idle": "2024-11-03T11:56:36.066347Z",
     "shell.execute_reply": "2024-11-03T11:56:36.065319Z",
     "shell.execute_reply.started": "2024-11-03T11:56:36.056015Z"
    },
    "trusted": true
   },
   "outputs": [],
   "source": [
    "import warnings\n",
    "# Bỏ qua tất cả các cảnh báo\n",
    "warnings.filterwarnings(\"ignore\")"
   ]
  },
  {
   "cell_type": "code",
   "execution_count": null,
   "metadata": {
    "_cell_guid": "b1076dfc-b9ad-4769-8c92-a6c4dae69d19",
    "_uuid": "8f2839f25d086af736a60e9eeb907d3b93b6e0e5",
    "execution": {
     "iopub.execute_input": "2024-11-03T11:56:36.068153Z",
     "iopub.status.busy": "2024-11-03T11:56:36.067825Z",
     "iopub.status.idle": "2024-11-03T11:59:56.109098Z",
     "shell.execute_reply": "2024-11-03T11:59:56.107952Z",
     "shell.execute_reply.started": "2024-11-03T11:56:36.068121Z"
    },
    "trusted": true
   },
   "outputs": [],
   "source": [
    "# clone môi trường Dassl\n",
    "!git clone https://github.com/KaiyangZhou/Dassl.pytorch.git > /dev/null 2>&1 \n",
    "%cd Dassl.pytorch/\n",
    "\n",
    "!pip install --upgrade torch torchvision > /dev/null 2>&1 \n",
    "\n",
    "!pip install -r requirements.txt > /dev/null 2>&1\n",
    "\n",
    "!python setup.py develop > /dev/null 2>&1 \n",
    "print('Done!')"
   ]
  },
  {
   "cell_type": "markdown",
   "metadata": {},
   "source": [
    "* File này được thiết kế để load 1 loại dataset 1 lần nhằm tiết kiệm tài nguyên.\n",
    "* Tải dataset tại đây [DATASETS.md](https://github.com/TreeLLi/APT/blob/main/DATASETS.md), làm theo hướng dẫn sau đó nén thành file zip và bỏ vào gg drive, hiện tại cần sự hỗ trợ của mọi người để load thêm các dataset còn thiếu vào mail nghiên cứu mới tạo.\n",
    " * TK: uitresearchteam2@gmail.com\n",
    " * MK: team@123456\n",
    "* Những chỗ có #EDIT HERE là những chỗ cần phải sửa tùy theo bảng/dataset thực nghiệm.\n",
    "* Hiện tại file này chưa hỗ trợ thử các phương pháp khác ngoài APT!\n",
    "* Hiện tại vẫn chưa mở rộng những yêu cầu của thầy, file này chỉ hỗ trợ thực nghiệm có sẵn của tác giả!\n",
    "* Ngoài ra cần đọc kĩ paper và hướng dẫn trong github của tác giả để hiểu rõ: [Tại đây](https://github.com/TreeLLi/APT)"
   ]
  },
  {
   "cell_type": "code",
   "execution_count": null,
   "metadata": {
    "execution": {
     "iopub.execute_input": "2024-11-03T11:59:56.111532Z",
     "iopub.status.busy": "2024-11-03T11:59:56.111168Z",
     "iopub.status.idle": "2024-11-03T11:59:57.642215Z",
     "shell.execute_reply": "2024-11-03T11:59:57.641146Z",
     "shell.execute_reply.started": "2024-11-03T11:59:56.111496Z"
    },
    "trusted": true
   },
   "outputs": [],
   "source": [
    "#clone APT\n",
    "!git clone https://github.com/leeminsun1205/APT.git > /dev/null 2>&1 #bỏ qua thông báo\n",
    "%cd /kaggle/working/Dassl.pytorch/APT\n",
    "print('Done!')"
   ]
  },
  {
   "cell_type": "code",
   "execution_count": null,
   "metadata": {
    "execution": {
     "iopub.execute_input": "2024-11-03T11:59:57.643958Z",
     "iopub.status.busy": "2024-11-03T11:59:57.643591Z",
     "iopub.status.idle": "2024-11-03T12:00:16.139428Z",
     "shell.execute_reply": "2024-11-03T12:00:16.138260Z",
     "shell.execute_reply.started": "2024-11-03T11:59:57.643920Z"
    },
    "trusted": true
   },
   "outputs": [],
   "source": [
    "!pip install -r requirements.txt > /dev/null 2>&1 #bỏ qua thông báo\n",
    "print('Done!')"
   ]
  },
  {
   "cell_type": "code",
   "execution_count": null,
   "metadata": {
    "execution": {
     "iopub.execute_input": "2024-11-03T12:00:16.142323Z",
     "iopub.status.busy": "2024-11-03T12:00:16.141964Z",
     "iopub.status.idle": "2024-11-03T12:00:31.669066Z",
     "shell.execute_reply": "2024-11-03T12:00:31.667924Z",
     "shell.execute_reply.started": "2024-11-03T12:00:16.142286Z"
    },
    "trusted": true
   },
   "outputs": [],
   "source": [
    "!pip install addict git+https://github.com/fra31/auto-attack torchattacks > /dev/null 2>&1 #bỏ qua thông báo\n",
    "print('Done!')"
   ]
  },
  {
   "cell_type": "code",
   "execution_count": null,
   "metadata": {
    "execution": {
     "iopub.execute_input": "2024-11-03T12:00:31.670731Z",
     "iopub.status.busy": "2024-11-03T12:00:31.670428Z",
     "iopub.status.idle": "2024-11-03T12:02:24.380151Z",
     "shell.execute_reply": "2024-11-03T12:02:24.379005Z",
     "shell.execute_reply.started": "2024-11-03T12:00:31.670698Z"
    },
    "trusted": true
   },
   "outputs": [],
   "source": [
    "!pip install torch==2.0.1+cu118 torchvision==0.15.2+cu118 torchaudio==2.0.2+cu118 -f https://download.pytorch.org/whl/torch_stable.html > /dev/null 2>&1\n",
    "print('Done!')"
   ]
  },
  {
   "cell_type": "markdown",
   "metadata": {},
   "source": [
    "**dataset.zip id** \n",
    "* imagenet: None\n",
    "* imagenet_a: None\n",
    "* imagenet_r: None\n",
    "* imagenet_sketch: None\n",
    "* imagenetv2: None\n",
    "* caltech101: 1Hq44aUGK6TCG1j4OGbYXOeE2yuvEKCzN\n",
    "* oxford_pets: 1yVdAuVRaPysOMGy9knpU_kLz8Z6Fbu3m\n",
    "* standford_cars: None\n",
    "* oxford_flowers: 1ekclhKlXxEIaFKaa0T_OPFpOYKSE0HKN\n",
    "* food101: None\n",
    "* fgvc_aircraft: None\n",
    "* sun397: None\n",
    "* dtd: 1TtpEotuu6PSBF6zu0ClafwDtUpA25mwp\n",
    "* eurosat: None\n",
    "* ucf101: 1VIElMYQ-tc34vUE-JvVoiUv9K5KPePfV"
   ]
  },
  {
   "cell_type": "code",
   "execution_count": null,
   "metadata": {},
   "outputs": [],
   "source": [
    "# import gdown\n",
    "# import os\n",
    "\n",
    "# zip_dataset_id = \"1Hq44aUGK6TCG1j4OGbYXOeE2yuvEKCzN\" #EDIT HERE\n",
    "# script_id = \"1tI08ZWq0Cx-WpJ_-P_Xx9QTc5qeysrbJ\" #APT.sh\n",
    "# cd /Desktop/MinhNhut/\n",
    "\n",
    "# # Tải file APT.sh\n",
    "# gdown.download(f\"https://drive.google.com/uc?id={script_id}\", quiet=False)\n",
    "\n",
    "# # Tải file zip với tên mặc định\n",
    "# zip_file = gdown.download(f\"https://drive.google.com/uc?id={zip_dataset_id}\", quiet=False)\n",
    "\n",
    "# # Lấy tên file mà không có phần mở rộng\n",
    "# dataset_name = os.path.splitext(os.path.basename(zip_file))[0]\n",
    "# bash /home/khoahocmaytinh2022/Desktop/MinhNhut/APT.sh dtd vit_b32 end 16 -1 False 4 2.67 3 0 onfly 0 &\n",
    "# bash /home/khoahocmaytinh2022/Desktop/MinhNhut/APT.sh ucf101 vit_b32 end 16 -1 False 4 2.67 3 0 onfly 0 &\n",
    "# bash /home/khoahocmaytinh2022/Desktop/MinhNhut/APT.sh oxford_flowers vit_b32 end 16 -1 False 4 2.67 3 0 onfly 0 &\n",
    "# bash /home/khoahocmaytinh2022/Desktop/MinhNhut/APT.sh oxford_pets vit_b32 end 16 -1 False 4 2.67 3 0 onfly 0 &\n",
    "# bash /home/khoahocmaytinh2022/Desktop/MinhNhut/APT.sh caltech101 vit_b32 end 16 -1 False 4 2.67 3 0 onfly 0 &\n",
    "# bash /home/khoahocmaytinh2022/Desktop/MinhNhut/APT.sh dtd vit_b32 end 16 -1 True 4 2.67 3 0 onfly 0 &\n",
    "# bash /home/khoahocmaytinh2022/Desktop/MinhNhut/APT.sh ucf101 vit_b32 end 16 -1 True 4 2.67 3 0 onfly 0 &\n",
    "# bash /home/khoahocmaytinh2022/Desktop/MinhNhut/APT.sh oxford_flowers vit_b32 end 16 -1 True 4 2.67 3 0 onfly 0 &\n",
    "# bash /home/khoahocmaytinh2022/Desktop/MinhNhut/APT.sh oxford_pets vit_b32 end 16 -1 True 4 2.67 3 0 onfly 0 &\n",
    "# bash /home/khoahocmaytinh2022/Desktop/MinhNhut/APT.sh caltech101 vit_b32 end 16 -1 True 4 2.67 3 0 onfly 0 \n",
    "\n",
    "\n",
    "\n",
    "# # Tạo thư mục DATA/dataset_name\n",
    "# os.makedirs(f\"DATA/{dataset_name}/\", exist_ok=True)\n",
    "# gdown.download(f\"https://drive.google.com/uc?id=1x3svOtvhFD5sV1SKz8B2KpOJd6EuVSFB\", quiet=False)\n",
    "# # Giải nén file zip vào thư mục đã tạo\n",
    "# !unzip -q /home/khoahocmaytinh2022/Desktop/MinhNhut/fgvc_aircraft.zip -d /home/khoahocmaytinh2022/Desktop/MinhNhut/DATA/fgvc_aircraft/"
   ]
  },
  {
   "cell_type": "code",
   "execution_count": null,
   "metadata": {
    "execution": {
     "iopub.execute_input": "2024-11-03T12:02:24.382009Z",
     "iopub.status.busy": "2024-11-03T12:02:24.381679Z",
     "iopub.status.idle": "2024-11-03T12:02:37.508703Z",
     "shell.execute_reply": "2024-11-03T12:02:37.507552Z",
     "shell.execute_reply.started": "2024-11-03T12:02:24.381974Z"
    },
    "trusted": true
   },
   "outputs": [],
   "source": [
    "import gdown\n",
    "import os\n",
    "\n",
    "zip_dataset_id = \"1Hq44aUGK6TCG1j4OGbYXOeE2yuvEKCzN\" #EDIT HERE\n",
    "script_id = \"1tI08ZWq0Cx-WpJ_-P_Xx9QTc5qeysrbJ\" #APT.sh\n",
    "%cd /kaggle/working/\n",
    "\n",
    "# Tải file APT.sh\n",
    "gdown.download(f\"https://drive.google.com/uc?id={script_id}\", quiet=False)\n",
    "\n",
    "# Tải file zip với tên mặc định\n",
    "zip_file = gdown.download(f\"https://drive.google.com/uc?id={zip_dataset_id}\", quiet=False)\n",
    "\n",
    "# Lấy tên file mà không có phần mở rộng\n",
    "dataset_name = os.path.splitext(os.path.basename(zip_file))[0]\n",
    "\n",
    "# Tạo thư mục DATA/dataset_name\n",
    "os.makedirs(f\"DATA/{dataset_name}/\", exist_ok=True)\n",
    "\n",
    "# Giải nén file zip vào thư mục đã tạo\n",
    "!unzip -q /kaggle/working/{zip_file} -d /kaggle/working/DATA/{dataset_name}/\n",
    "\n",
    "print(\"Done!\")\n",
    "\n",
    "with zipfile.ZipFile('Desktop/MinhNhut/caltech-101.zip', 'r') as zip_ref:\n",
    "    zip_ref.extractall('Desktop/MinhNhut/DATA/')"
   ]
  },
  {
   "cell_type": "code",
   "execution_count": null,
   "metadata": {
    "execution": {
     "iopub.execute_input": "2024-11-03T12:02:37.511568Z",
     "iopub.status.busy": "2024-11-03T12:02:37.510737Z",
     "iopub.status.idle": "2024-11-03T12:02:53.058525Z",
     "shell.execute_reply": "2024-11-03T12:02:53.057476Z",
     "shell.execute_reply.started": "2024-11-03T12:02:37.511513Z"
    },
    "trusted": true
   },
   "outputs": [],
   "source": [
    "#Chọn backbone với epsilon phù hợp\n",
    "vit_b32_eps1 = '1COEDmzEpkFijU7HOlQdzZfNhcEamz9Fu'\n",
    "vit_b32_eps4 = '1c2bMEadiCp8gIXuoUdGPH9zyW_6cMIDQ'\n",
    "rn50_eps1 = '11Yg8eEDoNMNHyBdsn01Z75ll-M33vHt'\n",
    "%cd /kaggle/working/Dassl.pytorch/APT/apt/backbone\n",
    "!gdown {vit_b32_eps4} #EDIT HERE\n",
    "%cd /kaggle/working/Dassl.pytorch/APT/apt "
   ]
  },
  {
   "cell_type": "markdown",
   "metadata": {},
   "source": [
    "**Adversarial Prompt Tuning**\n",
    "1. dataset ID. The list of supported dataset ID is given by the name of dataset source code files under the directory `apt/datasets`.\n",
    "2. training configuration identifier. For full specification, please refer to the corresponding file. There are other predefined configurations under `apt/configs/trainers/APT`.\n",
    "3. the position of class token\n",
    "4. the number of context vectors, `M`\n",
    "5. the number of shots, `N`, `-1` for tuning with entire training set.\n",
    "6. the variant of APT: True for Class Specific Context (CSC); False for Unified Context (UC)\n",
    "7. the training perturbation budget, `\\epsilon`\n",
    "8. the step size of training adversary, `\\alpha`\n",
    "9. the number of steps for training adversary\n",
    "10. seed of run.\n",
    "11. the prompting strategy: \"perturbed\", \"constant\" and \"onfly\"\n",
    "12. the step size, `\\alpha`, for perturbing text prompt if prompting strategy \"perturbed\" used."
   ]
  },
  {
   "cell_type": "code",
   "execution_count": null,
   "metadata": {
    "execution": {
     "iopub.execute_input": "2024-11-03T12:02:53.060228Z",
     "iopub.status.busy": "2024-11-03T12:02:53.059895Z",
     "iopub.status.idle": "2024-11-03T12:02:53.067318Z",
     "shell.execute_reply": "2024-11-03T12:02:53.066290Z",
     "shell.execute_reply.started": "2024-11-03T12:02:53.060193Z"
    },
    "trusted": true
   },
   "outputs": [],
   "source": [
    "#EDIT HERE\n",
    "dataset_ID = 'caltech101'\n",
    "backbone = 'vit_b32_ep50' \n",
    "pos_of_class_token = 'end'\n",
    "num_context_v = 16\n",
    "num_shots = 1\n",
    "apt_csc = False\n",
    "eps = 4\n",
    "alpha = 2.67 # 2/3 of eps\n",
    "num_steps = 3\n",
    "seed = 1\n",
    "prompting_strategy = 'onfly'\n",
    "perturbed_steps = 0"
   ]
  },
  {
   "cell_type": "code",
   "execution_count": null,
   "metadata": {
    "execution": {
     "iopub.execute_input": "2024-11-03T12:02:53.071166Z",
     "iopub.status.busy": "2024-11-03T12:02:53.068513Z",
     "iopub.status.idle": "2024-11-03T12:08:05.699887Z",
     "shell.execute_reply": "2024-11-03T12:08:05.698305Z",
     "shell.execute_reply.started": "2024-11-03T12:02:53.071114Z"
    },
    "trusted": true
   },
   "outputs": [],
   "source": [
    "!chmod +x /kaggle/working/APT.sh\n",
    "command = f\"/kaggle/working/APT.sh {dataset_ID} {backbone} {pos_of_class_token} {num_context_v} {num_shots} {apt_csc} {eps} {alpha} {num_steps} {seed} {prompting_strategy} {perturbed_steps}\"\n",
    "!{command}"
   ]
  },
  {
   "cell_type": "code",
   "execution_count": null,
   "metadata": {},
   "outputs": [],
   "source": [
    "import shutil\n",
    "\n",
    "# Đường dẫn của thư mục cần nén, ví dụ \"output\"\n",
    "output_folder = \"/kaggle/working/Dassl.pytorch/APT/apt/output\"\n",
    "zip_path = \"/kaggle/working/output\"\n",
    "\n",
    "# Tạo file zip với tên \"output.zip\" cùng cấp với thư mục \"output\"\n",
    "shutil.make_archive(zip_path, 'zip', output_folder)\n",
    "print(f'output.zip successfully!')"
   ]
  }
 ],
 "metadata": {
  "kaggle": {
   "accelerator": "gpu",
   "dataSources": [],
   "dockerImageVersionId": 30786,
   "isGpuEnabled": true,
   "isInternetEnabled": true,
   "language": "python",
   "sourceType": "notebook"
  },
  "kernelspec": {
   "display_name": "Python 3",
   "language": "python",
   "name": "python3"
  },
  "language_info": {
   "codemirror_mode": {
    "name": "ipython",
    "version": 3
   },
   "file_extension": ".py",
   "mimetype": "text/x-python",
   "name": "python",
   "nbconvert_exporter": "python",
   "pygments_lexer": "ipython3",
   "version": "3.10.14"
  }
 },
 "nbformat": 4,
 "nbformat_minor": 4
}
