{
 "cells": [
  {
   "cell_type": "markdown",
   "metadata": {},
   "source": [
    "* File này được thiết kế để load 1 loại dataset 1 lần nhằm tiết kiệm tài nguyên.\n",
    "* Tải dataset tại đây [DATASETS.md](https://github.com/TreeLLi/APT/blob/main/DATASETS.md), làm theo hướng dẫn sau đó nén thành file zip và bỏ vào gg drive, hiện tại cần sự hỗ trợ của mọi người để load thêm các dataset còn thiếu vào mail nghiên cứu mới tạo.\n",
    " * TK: uitresearchteam2@gmail.com\n",
    " * MK: team@123456\n",
    "* Những chỗ có #EDIT HERE là những chỗ cần phải sửa tùy theo bảng/dataset thực nghiệm.\n",
    "* Hiện tại file này chưa hỗ trợ thử các phương pháp khác ngoài APT!\n",
    "* Hiện tại vẫn chưa mở rộng những yêu cầu của thầy, file này chỉ hỗ trợ thực nghiệm có sẵn của tác giả!\n",
    "* Ngoài ra cần đọc kĩ paper và hướng dẫn trong github của tác giả để hiểu rõ: [Tại đây](https://github.com/TreeLLi/APT)"
   ]
  },
  {
   "cell_type": "code",
   "execution_count": 1,
   "metadata": {
    "execution": {
     "iopub.execute_input": "2024-11-10T06:06:08.453470Z",
     "iopub.status.busy": "2024-11-10T06:06:08.453098Z",
     "iopub.status.idle": "2024-11-10T06:06:08.464203Z",
     "shell.execute_reply": "2024-11-10T06:06:08.463130Z",
     "shell.execute_reply.started": "2024-11-10T06:06:08.453435Z"
    },
    "trusted": true
   },
   "outputs": [],
   "source": [
    "import warnings\n",
    "# Bỏ qua tất cả các cảnh báo\n",
    "warnings.filterwarnings(\"ignore\")"
   ]
  },
  {
   "cell_type": "code",
   "execution_count": 2,
   "metadata": {
    "_cell_guid": "b1076dfc-b9ad-4769-8c92-a6c4dae69d19",
    "_uuid": "8f2839f25d086af736a60e9eeb907d3b93b6e0e5",
    "execution": {
     "iopub.execute_input": "2024-11-10T06:06:08.468450Z",
     "iopub.status.busy": "2024-11-10T06:06:08.467586Z",
     "iopub.status.idle": "2024-11-10T06:09:27.616787Z",
     "shell.execute_reply": "2024-11-10T06:09:27.615714Z",
     "shell.execute_reply.started": "2024-11-10T06:06:08.468413Z"
    },
    "trusted": true
   },
   "outputs": [
    {
     "name": "stdout",
     "output_type": "stream",
     "text": [
      "/kaggle/working/Dassl.pytorch\n",
      "Done!\n"
     ]
    }
   ],
   "source": [
    "# clone môi trường Dassl\n",
    "!git clone https://github.com/KaiyangZhou/Dassl.pytorch.git > /dev/null 2>&1 \n",
    "%cd Dassl.pytorch/\n",
    "\n",
    "!pip install --upgrade torch torchvision > /dev/null 2>&1 \n",
    "\n",
    "!pip install -r requirements.txt > /dev/null 2>&1\n",
    "\n",
    "!python setup.py develop > /dev/null 2>&1 \n",
    "print('Done!')"
   ]
  },
  {
   "cell_type": "code",
   "execution_count": 3,
   "metadata": {
    "execution": {
     "iopub.execute_input": "2024-11-10T06:09:27.619289Z",
     "iopub.status.busy": "2024-11-10T06:09:27.618951Z",
     "iopub.status.idle": "2024-11-10T06:09:29.340681Z",
     "shell.execute_reply": "2024-11-10T06:09:29.339583Z",
     "shell.execute_reply.started": "2024-11-10T06:09:27.619252Z"
    },
    "trusted": true
   },
   "outputs": [
    {
     "name": "stdout",
     "output_type": "stream",
     "text": [
      "/kaggle/working/Dassl.pytorch/APT\n",
      "Done!\n"
     ]
    }
   ],
   "source": [
    "#clone APT\n",
    "!git clone https://github.com/leeminsun1205/APT.git > /dev/null 2>&1 #bỏ qua thông báo\n",
    "%cd /kaggle/working/Dassl.pytorch/APT\n",
    "print('Done!')"
   ]
  },
  {
   "cell_type": "code",
   "execution_count": 4,
   "metadata": {
    "execution": {
     "iopub.execute_input": "2024-11-10T06:09:29.342703Z",
     "iopub.status.busy": "2024-11-10T06:09:29.342274Z",
     "iopub.status.idle": "2024-11-10T06:09:48.673069Z",
     "shell.execute_reply": "2024-11-10T06:09:48.671915Z",
     "shell.execute_reply.started": "2024-11-10T06:09:29.342642Z"
    },
    "trusted": true
   },
   "outputs": [
    {
     "name": "stdout",
     "output_type": "stream",
     "text": [
      "Done!\n"
     ]
    }
   ],
   "source": [
    "!pip install -r requirements.txt > /dev/null 2>&1 #bỏ qua thông báo\n",
    "print('Done!')"
   ]
  },
  {
   "cell_type": "code",
   "execution_count": 5,
   "metadata": {
    "execution": {
     "iopub.execute_input": "2024-11-10T06:09:48.674996Z",
     "iopub.status.busy": "2024-11-10T06:09:48.674631Z",
     "iopub.status.idle": "2024-11-10T06:10:04.682367Z",
     "shell.execute_reply": "2024-11-10T06:10:04.681298Z",
     "shell.execute_reply.started": "2024-11-10T06:09:48.674957Z"
    },
    "trusted": true
   },
   "outputs": [
    {
     "name": "stdout",
     "output_type": "stream",
     "text": [
      "Done!\n"
     ]
    }
   ],
   "source": [
    "!pip install addict git+https://github.com/fra31/auto-attack torchattacks > /dev/null 2>&1 #bỏ qua thông báo\n",
    "print('Done!')"
   ]
  },
  {
   "cell_type": "code",
   "execution_count": 6,
   "metadata": {
    "execution": {
     "iopub.execute_input": "2024-11-10T06:10:04.685526Z",
     "iopub.status.busy": "2024-11-10T06:10:04.685195Z",
     "iopub.status.idle": "2024-11-10T06:11:58.234974Z",
     "shell.execute_reply": "2024-11-10T06:11:58.233823Z",
     "shell.execute_reply.started": "2024-11-10T06:10:04.685489Z"
    },
    "trusted": true
   },
   "outputs": [
    {
     "name": "stdout",
     "output_type": "stream",
     "text": [
      "Done!\n"
     ]
    }
   ],
   "source": [
    "!pip install torch==2.0.1+cu118 torchvision==0.15.2+cu118 torchaudio==2.0.2+cu118 -f https://download.pytorch.org/whl/torch_stable.html > /dev/null 2>&1\n",
    "print('Done!')"
   ]
  },
  {
   "cell_type": "code",
   "execution_count": 7,
   "metadata": {
    "execution": {
     "iopub.execute_input": "2024-11-10T06:11:58.236833Z",
     "iopub.status.busy": "2024-11-10T06:11:58.236497Z",
     "iopub.status.idle": "2024-11-10T06:12:04.464310Z",
     "shell.execute_reply": "2024-11-10T06:12:04.463216Z",
     "shell.execute_reply.started": "2024-11-10T06:11:58.236797Z"
    },
    "trusted": true
   },
   "outputs": [
    {
     "name": "stdout",
     "output_type": "stream",
     "text": [
      "/opt/conda/lib/python3.10/site-packages/requests/__init__.py:87: RequestsDependencyWarning: urllib3 (2.2.1) or chardet (4.0.0) doesn't match a supported version!\n",
      "  warnings.warn(\"urllib3 ({}) or chardet ({}) doesn't match a supported \"\n",
      "Downloading...\n",
      "From: https://drive.google.com/uc?id=1XpBgRRXp9aUoEM1nznKujS6UvYZTC_mk\n",
      "To: /kaggle/working/Dassl.pytorch/APT/model.pth.tar-50\n",
      "100%|██████████████████████████████████████| 6.28M/6.28M [00:00<00:00, 20.4MB/s]\n"
     ]
    }
   ],
   "source": [
    "import gdown\n",
    "!gdown 1XpBgRRXp9aUoEM1nznKujS6UvYZTC_mk"
   ]
  },
  {
   "cell_type": "code",
   "execution_count": 19,
   "metadata": {
    "execution": {
     "iopub.execute_input": "2024-11-10T06:15:20.740162Z",
     "iopub.status.busy": "2024-11-10T06:15:20.739636Z",
     "iopub.status.idle": "2024-11-10T06:15:27.625886Z",
     "shell.execute_reply": "2024-11-10T06:15:27.624886Z",
     "shell.execute_reply.started": "2024-11-10T06:15:20.740115Z"
    },
    "trusted": true
   },
   "outputs": [
    {
     "name": "stdout",
     "output_type": "stream",
     "text": [
      "/opt/conda/lib/python3.10/site-packages/requests/__init__.py:87: RequestsDependencyWarning: urllib3 (2.2.1) or chardet (4.0.0) doesn't match a supported version!\n",
      "  warnings.warn(\"urllib3 ({}) or chardet ({}) doesn't match a supported \"\n",
      "Return the top-1 matched words\n",
      "Size of token embedding: torch.Size([49408, 512])\n",
      "Size of context: torch.Size([16, 512])\n",
      "Size of distance matrix: torch.Size([16, 49408])\n",
      "1: ['appeals</w>'] ['0.5724']\n",
      "2: ['chan</w>'] ['0.5341']\n",
      "3: ['ff</w>'] ['0.5895']\n",
      "4: ['rowe</w>'] ['0.5399']\n",
      "5: ['re'] ['0.6273']\n",
      "6: ['pretty</w>'] ['0.6154']\n",
      "7: ['yyyy'] ['1.0938']\n",
      "8: ['name</w>'] ['0.8226']\n",
      "9: ['feb</w>'] ['0.5834']\n",
      "10: ['babies</w>'] ['0.6285']\n",
      "11: ['service'] ['0.6467']\n",
      "12: ['snacking</w>'] ['0.6398']\n",
      "13: ['anime'] ['0.6128']\n",
      "14: ['ta'] ['0.5933']\n",
      "15: ['filmfest</w>'] ['0.5595']\n",
      "16: ['religions</w>'] ['0.6064']\n"
     ]
    }
   ],
   "source": [
    "!python /kaggle/working/Dassl.pytorch/APT/apt/interpret_prompt.py /kaggle/working/Dassl.pytorch/APT/model.pth.tar-50 1"
   ]
  },
  {
   "cell_type": "markdown",
   "metadata": {},
   "source": [
    "**dataset.zip id** \n",
    "* imagenet: None\n",
    "* imagenet_a: None\n",
    "* imagenet_r: None\n",
    "* imagenet_sketch: None\n",
    "* imagenetv2: None\n",
    "* caltech101: 1Hq44aUGK6TCG1j4OGbYXOeE2yuvEKCzN\n",
    "* oxford_pets: 1yVdAuVRaPysOMGy9knpU_kLz8Z6Fbu3m\n",
    "* standford_cars: None\n",
    "* oxford_flowers: 1ekclhKlXxEIaFKaa0T_OPFpOYKSE0HKN\n",
    "* food101: None\n",
    "* fgvc_aircraft: None\n",
    "* sun397: None\n",
    "* dtd: 1TtpEotuu6PSBF6zu0ClafwDtUpA25mwp\n",
    "* eurosat: None\n",
    "* ucf101: 1VIElMYQ-tc34vUE-JvVoiUv9K5KPePfV"
   ]
  },
  {
   "cell_type": "code",
   "execution_count": 9,
   "metadata": {
    "execution": {
     "iopub.execute_input": "2024-11-10T06:12:08.718366Z",
     "iopub.status.busy": "2024-11-10T06:12:08.718058Z",
     "iopub.status.idle": "2024-11-10T06:12:08.723568Z",
     "shell.execute_reply": "2024-11-10T06:12:08.722553Z",
     "shell.execute_reply.started": "2024-11-10T06:12:08.718331Z"
    },
    "trusted": true
   },
   "outputs": [],
   "source": [
    "# import gdown\n",
    "# import os\n",
    "\n",
    "# zip_dataset_id = \"1Hq44aUGK6TCG1j4OGbYXOeE2yuvEKCzN\" #EDIT HERE\n",
    "# script_id = \"1tI08ZWq0Cx-WpJ_-P_Xx9QTc5qeysrbJ\" #APT.sh\n",
    "# %cd /kaggle/working/\n",
    "\n",
    "# # Tải file APT.sh\n",
    "# gdown.download(f\"https://drive.google.com/uc?id={script_id}\", quiet=False)\n",
    "\n",
    "# # Tải file zip với tên mặc định\n",
    "# zip_file = gdown.download(f\"https://drive.google.com/uc?id={zip_dataset_id}\", quiet=False)\n",
    "\n",
    "# # Lấy tên file mà không có phần mở rộng\n",
    "# dataset_name = os.path.splitext(os.path.basename(zip_file))[0]\n",
    "\n",
    "# # Tạo thư mục DATA/dataset_name\n",
    "# os.makedirs(f\"DATA/{dataset_name}/\", exist_ok=True)\n",
    "\n",
    "# # Giải nén file zip vào thư mục đã tạo\n",
    "# !unzip -q /kaggle/working/{zip_file} -d /kaggle/working/DATA/{dataset_name}/\n",
    "\n",
    "# print(\"Done!\")\n"
   ]
  },
  {
   "cell_type": "code",
   "execution_count": 10,
   "metadata": {
    "execution": {
     "iopub.execute_input": "2024-11-10T06:12:08.725126Z",
     "iopub.status.busy": "2024-11-10T06:12:08.724783Z",
     "iopub.status.idle": "2024-11-10T06:12:08.741275Z",
     "shell.execute_reply": "2024-11-10T06:12:08.740462Z",
     "shell.execute_reply.started": "2024-11-10T06:12:08.725078Z"
    },
    "trusted": true
   },
   "outputs": [],
   "source": [
    "# #Chọn backbone với epsilon phù hợp\n",
    "# vit_b32_eps1 = '1COEDmzEpkFijU7HOlQdzZfNhcEamz9Fu'\n",
    "# vit_b32_eps4 = '1c2bMEadiCp8gIXuoUdGPH9zyW_6cMIDQ'\n",
    "# rn50_eps1 = '11Yg8eEDoNMNHyBdsn01Z75ll-M33vHtH'\n",
    "\n",
    "# %cd /kaggle/working/Dassl.pytorch/APT/apt/backbone\n",
    "# !gdown {vit_b32_eps4} #EDIT HERE\n",
    "# %cd /kaggle/working/Dassl.pytorch/APT/apt "
   ]
  },
  {
   "cell_type": "markdown",
   "metadata": {},
   "source": [
    "**Adversarial Prompt Tuning**\n",
    "1. dataset ID. The list of supported dataset ID is given by the name of dataset source code files under the directory `apt/datasets`.\n",
    "2. training configuration identifier. For full specification, please refer to the corresponding file. There are other predefined configurations under `apt/configs/trainers/APT`.\n",
    "3. the position of class token\n",
    "4. the number of context vectors, `M`\n",
    "5. the number of shots, `N`, `-1` for tuning with entire training set.\n",
    "6. the variant of APT: True for Class Specific Context (CSC); False for Unified Context (UC)\n",
    "7. the training perturbation budget, `\\epsilon`\n",
    "8. the step size of training adversary, `\\alpha`\n",
    "9. the number of steps for training adversary\n",
    "10. seed of run.\n",
    "11. the prompting strategy: \"perturbed\", \"constant\" and \"onfly\"\n",
    "12. the step size, `\\alpha`, for perturbing text prompt if prompting strategy \"perturbed\" used."
   ]
  },
  {
   "cell_type": "code",
   "execution_count": 11,
   "metadata": {
    "execution": {
     "iopub.execute_input": "2024-11-10T06:12:08.742595Z",
     "iopub.status.busy": "2024-11-10T06:12:08.742298Z",
     "iopub.status.idle": "2024-11-10T06:12:08.753183Z",
     "shell.execute_reply": "2024-11-10T06:12:08.752289Z",
     "shell.execute_reply.started": "2024-11-10T06:12:08.742556Z"
    },
    "trusted": true
   },
   "outputs": [],
   "source": [
    "# #EDIT HERE\n",
    "# dataset_ID = 'caltech101'\n",
    "# backbone = 'vit_b32' \n",
    "# pos_of_class_token = 'end'\n",
    "# num_context_v = 1\n",
    "# num_shots = -1\n",
    "# apt_csc = False\n",
    "# eps = 4\n",
    "# alpha = 2.67 # 2/3 of eps\n",
    "# num_steps = 3\n",
    "# seed = 1\n",
    "# prompting_strategy = 'onfly'\n",
    "# perturbed_steps = 0"
   ]
  },
  {
   "cell_type": "code",
   "execution_count": 12,
   "metadata": {
    "execution": {
     "iopub.execute_input": "2024-11-10T06:12:08.754759Z",
     "iopub.status.busy": "2024-11-10T06:12:08.754384Z",
     "iopub.status.idle": "2024-11-10T06:12:08.764083Z",
     "shell.execute_reply": "2024-11-10T06:12:08.763199Z",
     "shell.execute_reply.started": "2024-11-10T06:12:08.754725Z"
    },
    "trusted": true
   },
   "outputs": [],
   "source": [
    "# !chmod +x /kaggle/working/APT.sh\n",
    "# command = f\"/kaggle/working/APT.sh {dataset_ID} {backbone} {pos_of_class_token} {num_context_v} {num_shots} {apt_csc} {eps} {alpha} {num_steps} {seed} {prompting_strategy} {perturbed_steps}\"\n",
    "# !{command}"
   ]
  },
  {
   "cell_type": "code",
   "execution_count": 13,
   "metadata": {
    "execution": {
     "iopub.execute_input": "2024-11-10T06:12:08.765706Z",
     "iopub.status.busy": "2024-11-10T06:12:08.765351Z",
     "iopub.status.idle": "2024-11-10T06:12:08.773149Z",
     "shell.execute_reply": "2024-11-10T06:12:08.772379Z",
     "shell.execute_reply.started": "2024-11-10T06:12:08.765665Z"
    },
    "trusted": true
   },
   "outputs": [],
   "source": [
    "# %rm -rf /kaggle/working/Dassl.pytorch/APT/apt/output #dùng để clear ouput khi chạy fail vì fail hay sucess thì nó cũng tạo output"
   ]
  },
  {
   "cell_type": "markdown",
   "metadata": {},
   "source": [
    "**Evaluate In-Distribution**"
   ]
  },
  {
   "cell_type": "code",
   "execution_count": 14,
   "metadata": {
    "execution": {
     "iopub.execute_input": "2024-11-10T06:12:08.774851Z",
     "iopub.status.busy": "2024-11-10T06:12:08.774500Z",
     "iopub.status.idle": "2024-11-10T06:12:08.782852Z",
     "shell.execute_reply": "2024-11-10T06:12:08.782034Z",
     "shell.execute_reply.started": "2024-11-10T06:12:08.774809Z"
    },
    "trusted": true
   },
   "outputs": [],
   "source": [
    "# #EDIT HERE\n",
    "# output = '/kaggle/working/Dassl.pytorch/APT/apt/output/caltech101/APT/vit_b32_-1shots/nctx16_cscFalse_ctpend/eps4_alpha2.67_step3/seed1/' #lấy trong log_dir ở trên\n",
    "# attack = 'pgd'\n",
    "\n",
    "# !python evaluate.py {output} --cls-prompt prompter --attack {attack}"
   ]
  },
  {
   "cell_type": "markdown",
   "metadata": {},
   "source": [
    "**Evaluate Zero-shot / Out-Of-Distribution**"
   ]
  },
  {
   "cell_type": "code",
   "execution_count": 15,
   "metadata": {
    "execution": {
     "iopub.execute_input": "2024-11-10T06:12:08.786842Z",
     "iopub.status.busy": "2024-11-10T06:12:08.786520Z",
     "iopub.status.idle": "2024-11-10T06:12:08.795631Z",
     "shell.execute_reply": "2024-11-10T06:12:08.794868Z",
     "shell.execute_reply.started": "2024-11-10T06:12:08.786811Z"
    },
    "trusted": true
   },
   "outputs": [],
   "source": [
    "# python evaluate.py path_to_checkpoint --dataset --cls-prompt prompter --attack pgd"
   ]
  }
 ],
 "metadata": {
  "kaggle": {
   "accelerator": "gpu",
   "dataSources": [],
   "dockerImageVersionId": 30787,
   "isGpuEnabled": true,
   "isInternetEnabled": true,
   "language": "python",
   "sourceType": "notebook"
  },
  "kernelspec": {
   "display_name": "Python 3",
   "language": "python",
   "name": "python3"
  },
  "language_info": {
   "codemirror_mode": {
    "name": "ipython",
    "version": 3
   },
   "file_extension": ".py",
   "mimetype": "text/x-python",
   "name": "python",
   "nbconvert_exporter": "python",
   "pygments_lexer": "ipython3",
   "version": "3.10.14"
  }
 },
 "nbformat": 4,
 "nbformat_minor": 4
}
